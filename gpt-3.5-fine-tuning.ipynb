{
 "cells": [
  {
   "cell_type": "markdown",
   "metadata": {
    "id": "wM8MRkf8Dr94"
   },
   "source": [
    "## Describe your model -> fine-tuned GPT-3.5\n",
    "By Matt Shumer (https://twitter.com/mattshumer_)\n",
    "\n",
    "The goal of this notebook is to experiment with a new way to make it very easy to build a task-specific model for your use-case.\n",
    "\n",
    "First, use the best GPU available (go to Runtime -> change runtime type)\n",
    "\n",
    "To create your model, just go to the first code cell, and describe the model you want to build in the prompt. Be descriptive and clear.\n",
    "\n",
    "Select a temperature (high=creative, low=precise), and the number of training examples to generate to train the model. From there, just run all the cells.\n",
    "\n",
    "You can change the model you want to fine-tune by changing `model_name` in the `Define Hyperparameters` cell."
   ]
  },
  {
   "cell_type": "markdown",
   "metadata": {
    "id": "Way3_PuPpIuE"
   },
   "source": [
    "#Data generation step"
   ]
  },
  {
   "cell_type": "markdown",
   "metadata": {
    "id": "lY-3DvlIpVSl"
   },
   "source": [
    "Write your prompt here. Make it as descriptive as possible!\n",
    "\n",
    "Then, choose the temperature (between 0 and 1) to use when generating data. Lower values are great for precise tasks, like writing code, whereas larger values are better for creative tasks, like writing stories.\n",
    "\n",
    "Finally, choose how many examples you want to generate. The more you generate, a) the longer it takes and b) the more expensive data generation will be. But generally, more examples will lead to a higher-quality model. 100 is usually the minimum to start."
   ]
  },
  {
   "cell_type": "code",
   "execution_count": 26,
   "metadata": {
    "id": "R7WKZyxtpUPS"
   },
   "outputs": [],
   "source": [
    "prompt = \"A model that takes in a puzzle-like reasoning-heavy question in English, and responds with a well-reasoned, step-by-step thought out response in Spanish.\"\n",
    "temperature = .4\n",
    "number_of_examples = 50"
   ]
  },
  {
   "cell_type": "markdown",
   "metadata": {
    "id": "1snNou5PrIci"
   },
   "source": [
    "Run this to generate the dataset."
   ]
  },
  {
   "cell_type": "code",
   "execution_count": null,
   "metadata": {
    "colab": {
     "base_uri": "https://localhost:8080/"
    },
    "id": "zuL2UaqlsmBD",
    "outputId": "619d14aa-de43-455e-b505-fc95116a34fc"
   },
   "outputs": [
    {
     "name": "stdout",
     "output_type": "stream",
     "text": [
      "Collecting openai\n",
      "  Downloading openai-1.7.0-py3-none-any.whl (224 kB)\n",
      "\u001b[?25l     \u001b[90m━━━━━━━━━━━━━━━━━━━━━━━━━━━━━━━━━━━━━━━━\u001b[0m \u001b[32m0.0/224.7 kB\u001b[0m \u001b[31m?\u001b[0m eta \u001b[36m-:--:--\u001b[0m\r\n",
      "\u001b[2K     \u001b[91m━━━━━━━━━━━━━━━━\u001b[0m\u001b[90m╺\u001b[0m\u001b[90m━━━━━━━━━━━━━━━━━━━━━━━\u001b[0m \u001b[32m92.2/224.7 kB\u001b[0m \u001b[31m2.6 MB/s\u001b[0m eta \u001b[36m0:00:01\u001b[0m\r\n",
      "\u001b[2K     \u001b[90m━━━━━━━━━━━━━━━━━━━━━━━━━━━━━━━━━━━━━━━━\u001b[0m \u001b[32m224.7/224.7 kB\u001b[0m \u001b[31m3.8 MB/s\u001b[0m eta \u001b[36m0:00:00\u001b[0m\n",
      "\u001b[?25hRequirement already satisfied: tenacity in /usr/local/lib/python3.10/dist-packages (8.2.3)\n",
      "Requirement already satisfied: anyio<5,>=3.5.0 in /usr/local/lib/python3.10/dist-packages (from openai) (3.7.1)\n",
      "Requirement already satisfied: distro<2,>=1.7.0 in /usr/lib/python3/dist-packages (from openai) (1.7.0)\n",
      "Collecting httpx<1,>=0.23.0 (from openai)\n",
      "  Downloading httpx-0.26.0-py3-none-any.whl (75 kB)\n",
      "\u001b[2K     \u001b[90m━━━━━━━━━━━━━━━━━━━━━━━━━━━━━━━━━━━━━━━━\u001b[0m \u001b[32m75.9/75.9 kB\u001b[0m \u001b[31m7.1 MB/s\u001b[0m eta \u001b[36m0:00:00\u001b[0m\n",
      "\u001b[?25hRequirement already satisfied: pydantic<3,>=1.9.0 in /usr/local/lib/python3.10/dist-packages (from openai) (1.10.13)\n",
      "Requirement already satisfied: sniffio in /usr/local/lib/python3.10/dist-packages (from openai) (1.3.0)\n",
      "Requirement already satisfied: tqdm>4 in /usr/local/lib/python3.10/dist-packages (from openai) (4.66.1)\n",
      "Collecting typing-extensions<5,>=4.7 (from openai)\n",
      "  Downloading typing_extensions-4.9.0-py3-none-any.whl (32 kB)\n",
      "Requirement already satisfied: idna>=2.8 in /usr/local/lib/python3.10/dist-packages (from anyio<5,>=3.5.0->openai) (3.6)\n",
      "Requirement already satisfied: exceptiongroup in /usr/local/lib/python3.10/dist-packages (from anyio<5,>=3.5.0->openai) (1.2.0)\n",
      "Requirement already satisfied: certifi in /usr/local/lib/python3.10/dist-packages (from httpx<1,>=0.23.0->openai) (2023.11.17)\n",
      "Collecting httpcore==1.* (from httpx<1,>=0.23.0->openai)\n",
      "  Downloading httpcore-1.0.2-py3-none-any.whl (76 kB)\n",
      "\u001b[2K     \u001b[90m━━━━━━━━━━━━━━━━━━━━━━━━━━━━━━━━━━━━━━━━\u001b[0m \u001b[32m76.9/76.9 kB\u001b[0m \u001b[31m7.2 MB/s\u001b[0m eta \u001b[36m0:00:00\u001b[0m\n",
      "\u001b[?25hCollecting h11<0.15,>=0.13 (from httpcore==1.*->httpx<1,>=0.23.0->openai)\n",
      "  Downloading h11-0.14.0-py3-none-any.whl (58 kB)\n",
      "\u001b[2K     \u001b[90m━━━━━━━━━━━━━━━━━━━━━━━━━━━━━━━━━━━━━━━━\u001b[0m \u001b[32m58.3/58.3 kB\u001b[0m \u001b[31m6.2 MB/s\u001b[0m eta \u001b[36m0:00:00\u001b[0m\n",
      "\u001b[?25hInstalling collected packages: typing-extensions, h11, httpcore, httpx, openai\n",
      "  Attempting uninstall: typing-extensions\n",
      "    Found existing installation: typing_extensions 4.5.0\n",
      "    Uninstalling typing_extensions-4.5.0:\n",
      "      Successfully uninstalled typing_extensions-4.5.0\n",
      "\u001b[31mERROR: pip's dependency resolver does not currently take into account all the packages that are installed. This behaviour is the source of the following dependency conflicts.\n",
      "llmx 0.0.15a0 requires cohere, which is not installed.\n",
      "llmx 0.0.15a0 requires tiktoken, which is not installed.\n",
      "tensorflow-probability 0.22.0 requires typing-extensions<4.6.0, but you have typing-extensions 4.9.0 which is incompatible.\u001b[0m\u001b[31m\n",
      "\u001b[0mSuccessfully installed h11-0.14.0 httpcore-1.0.2 httpx-0.26.0 openai-1.7.0 typing-extensions-4.9.0\n"
     ]
    }
   ],
   "source": [
    "!pip install openai tenacity"
   ]
  },
  {
   "cell_type": "code",
   "execution_count": null,
   "metadata": {
    "colab": {
     "base_uri": "https://localhost:8080/"
    },
    "id": "Rdsd82ngpHCG",
    "outputId": "c51a9559-5065-42d5-c45a-9b142a7d7eea"
   },
   "outputs": [
    {
     "name": "stdout",
     "output_type": "stream",
     "text": [
      "Generating example 0\n",
      "Generating example 1\n",
      "Generating example 2\n",
      "Generating example 3\n",
      "Generating example 4\n",
      "Generating example 5\n",
      "Generating example 6\n",
      "Generating example 7\n",
      "Generating example 8\n",
      "Generating example 9\n",
      "Generating example 10\n",
      "Generating example 11\n"
     ]
    }
   ],
   "source": [
    "import os\n",
    "from openai import OpenAI\n",
    "client = OpenAI(api_key= os.getenv(\"OPENAI_API_KEY\"))\n",
    "import random\n",
    "from tenacity import retry, stop_after_attempt, wait_exponential\n",
    "\n",
    "\n",
    "N_RETRIES = 3\n",
    "\n",
    "@retry(stop=stop_after_attempt(N_RETRIES), wait=wait_exponential(multiplier=1, min=4, max=70))\n",
    "def generate_example(prompt, prev_examples, temperature=.5):\n",
    "    messages=[\n",
    "        {\n",
    "            \"role\": \"system\",\n",
    "            \"content\": f\"You are generating data which will be used to train a machine learning model.\\n\\nYou will be given a high-level description of the model we want to train, and from that, you will generate data samples, each with a prompt/response pair.\\n\\nYou will do so in this format:\\n```\\nprompt\\n-----------\\nresponse_goes_here\\n-----------\\n```\\n\\nOnly one prompt/response pair should be generated per turn.\\n\\nFor each turn, make the example slightly more complex than the last, while ensuring diversity.\\n\\nMake sure your samples are unique and diverse, yet high-quality and complex enough to train a well-performing model.\\n\\nHere is the type of model we want to train:\\n`{prompt}`\"\n",
    "        }\n",
    "    ]\n",
    "    if len(prev_examples) > 0:\n",
    "        if len(prev_examples) > 8:\n",
    "            prev_examples = random.sample(prev_examples, 8)\n",
    "        for example in prev_examples:\n",
    "            messages.append({\n",
    "                \"role\": \"user\",\n",
    "                \"content\": example\n",
    "            })\n",
    "\n",
    "    response = client.chat.completions.create(\n",
    "        model=\"gpt-3.5-turbo\",\n",
    "        #stream=True,\n",
    "        messages=messages,\n",
    "        temperature=temperature,\n",
    "        max_tokens=1000,\n",
    "    )\n",
    "\n",
    "    # print(response.choices[0].message.content)\n",
    "\n",
    "    return response.choices[0].message.content\n",
    "\n",
    "# number_of_examples=2\n",
    "# Generate examples\n",
    "prev_examples = []\n",
    "for i in range(number_of_examples):\n",
    "    print(f'Generating example {i}')\n",
    "    example = generate_example(prompt, prev_examples, temperature)\n",
    "    prev_examples.append(example)\n",
    "\n",
    "print(prev_examples)"
   ]
  },
  {
   "cell_type": "markdown",
   "metadata": {
    "id": "KC6iJzXjugJ-"
   },
   "source": [
    "We also need to generate a system message."
   ]
  },
  {
   "cell_type": "code",
   "execution_count": 28,
   "metadata": {
    "colab": {
     "base_uri": "https://localhost:8080/"
    },
    "id": "xMcfhW6Guh2E",
    "outputId": "93c9ad80-d85e-47b6-84c1-c774e260d26c"
   },
   "outputs": [
    {
     "name": "stdout",
     "output_type": "stream",
     "text": [
      "The system message is: `Given a puzzle-like reasoning-heavy question in English, you will respond with a well-reasoned, step-by-step thought out response in Spanish.`. Feel free to re-run this cell if you want a better result.\n"
     ]
    }
   ],
   "source": [
    "def generate_system_message(prompt):\n",
    "\n",
    "    response = client.chat.completions.create(\n",
    "        model=\"gpt-3.5-turbo\",\n",
    "        messages=[\n",
    "          {\n",
    "            \"role\": \"system\",\n",
    "            \"content\": \"You will be given a high-level description of the model we are training, and from that, you will generate a simple system prompt for that model to use. Remember, you are not generating the system message for data generation -- you are generating the system message to use for inference. A good format to follow is `Given $INPUT_DATA, you will $WHAT_THE_MODEL_SHOULD_DO.`.\\n\\nMake it as concise as possible. Include nothing but the system prompt in your response.\\n\\nFor example, never write: `\\\"$SYSTEM_PROMPT_HERE\\\"`.\\n\\nIt should be like: `$SYSTEM_PROMPT_HERE`.\"\n",
    "          },\n",
    "          {\n",
    "              \"role\": \"user\",\n",
    "              \"content\": prompt.strip(),\n",
    "          }\n",
    "        ],\n",
    "        temperature=temperature,\n",
    "        max_tokens=500,\n",
    "    )\n",
    "\n",
    "    return response.choices[0].message.content\n",
    "\n",
    "system_message = generate_system_message(prompt)\n",
    "\n",
    "print(f'The system message is: `{system_message}`. Feel free to re-run this cell if you want a better result.')"
   ]
  },
  {
   "cell_type": "markdown",
   "metadata": {
    "id": "G6BqZ-hjseBF"
   },
   "source": [
    "Now let's put our examples into a dataframe and turn them into a final pair of datasets."
   ]
  },
  {
   "cell_type": "code",
   "execution_count": 32,
   "metadata": {
    "colab": {
     "base_uri": "https://localhost:8080/"
    },
    "id": "7CEdkYeRsdmB",
    "outputId": "bca0af0b-931a-4aaa-b6ec-7ffe6f61025d"
   },
   "outputs": [
    {
     "name": "stdout",
     "output_type": "stream",
     "text": [
      "50\n",
      "example =  ¡Hola! ¿En qué puedo ayudarte hoy?\n",
      "split_example =  ['¡Hola! ¿En qué puedo ayudarte hoy?']\n",
      "example =  ¡Hola! Estoy aquí para ayudarte en cualquier pregunta o problema que tengas. Por favor, dime en qué puedo asistirte hoy.\n",
      "split_example =  ['¡Hola! Estoy aquí para ayudarte en cualquier pregunta o problema que tengas. Por favor, dime en qué puedo asistirte hoy.']\n",
      "example =  ¡Hola! Estoy aquí para ayudarte en lo que necesites. ¿En qué puedo asistirte hoy?\n",
      "split_example =  ['¡Hola! Estoy aquí para ayudarte en lo que necesites. ¿En qué puedo asistirte hoy?']\n",
      "example =  ¡Hola! Estoy aquí para ayudarte en lo que necesites. ¿En qué puedo asistirte hoy?\n",
      "split_example =  ['¡Hola! Estoy aquí para ayudarte en lo que necesites. ¿En qué puedo asistirte hoy?']\n",
      "example =  ¡Hola! Estoy aquí para ayudarte en lo que necesites. ¿En qué puedo asistirte hoy?\n",
      "split_example =  ['¡Hola! Estoy aquí para ayudarte en lo que necesites. ¿En qué puedo asistirte hoy?']\n",
      "example =  ¡Hola! Estoy aquí para ayudarte en lo que necesites. ¿En qué puedo asistirte hoy?\n",
      "split_example =  ['¡Hola! Estoy aquí para ayudarte en lo que necesites. ¿En qué puedo asistirte hoy?']\n",
      "example =  ¡Hola! Estoy aquí para ayudarte en lo que necesites. ¿En qué puedo asistirte hoy?\n",
      "split_example =  ['¡Hola! Estoy aquí para ayudarte en lo que necesites. ¿En qué puedo asistirte hoy?']\n",
      "example =  ¡Hola! Estoy aquí para ayudarte en lo que necesites. ¿En qué puedo asistirte hoy?\n",
      "split_example =  ['¡Hola! Estoy aquí para ayudarte en lo que necesites. ¿En qué puedo asistirte hoy?']\n",
      "example =  ¡Hola! Estoy aquí para ayudarte en lo que necesites. ¿En qué puedo asistirte hoy?\n",
      "split_example =  ['¡Hola! Estoy aquí para ayudarte en lo que necesites. ¿En qué puedo asistirte hoy?']\n",
      "example =  ¡Hola! Estoy aquí para ayudarte en lo que necesites. ¿En qué puedo asistirte hoy?\n",
      "split_example =  ['¡Hola! Estoy aquí para ayudarte en lo que necesites. ¿En qué puedo asistirte hoy?']\n",
      "example =  ¡Hola! Estoy aquí para ayudarte en lo que necesites. ¿En qué puedo asistirte hoy?\n",
      "split_example =  ['¡Hola! Estoy aquí para ayudarte en lo que necesites. ¿En qué puedo asistirte hoy?']\n",
      "example =  ¡Hola! Estoy aquí para ayudarte en lo que necesites. ¿En qué puedo asistirte hoy?\n",
      "split_example =  ['¡Hola! Estoy aquí para ayudarte en lo que necesites. ¿En qué puedo asistirte hoy?']\n",
      "example =  ¡Hola! Estoy aquí para ayudarte en lo que necesites. ¿En qué puedo asistirte hoy?\n",
      "split_example =  ['¡Hola! Estoy aquí para ayudarte en lo que necesites. ¿En qué puedo asistirte hoy?']\n",
      "example =  ¡Hola! Estoy aquí para ayudarte en lo que necesites. ¿En qué puedo asistirte hoy?\n",
      "split_example =  ['¡Hola! Estoy aquí para ayudarte en lo que necesites. ¿En qué puedo asistirte hoy?']\n",
      "example =  ¡Hola! Estoy aquí para ayudarte en lo que necesites. ¿En qué puedo asistirte hoy?\n",
      "split_example =  ['¡Hola! Estoy aquí para ayudarte en lo que necesites. ¿En qué puedo asistirte hoy?']\n",
      "example =  ¡Hola! Estoy aquí para ayudarte en lo que necesites. ¿En qué puedo asistirte hoy?\n",
      "split_example =  ['¡Hola! Estoy aquí para ayudarte en lo que necesites. ¿En qué puedo asistirte hoy?']\n",
      "example =  ¡Hola! Estoy aquí para ayudarte en lo que necesites. ¿En qué puedo asistirte hoy?\n",
      "split_example =  ['¡Hola! Estoy aquí para ayudarte en lo que necesites. ¿En qué puedo asistirte hoy?']\n",
      "example =  ¡Hola! Estoy aquí para ayudarte en lo que necesites. ¿En qué puedo asistirte hoy?\n",
      "split_example =  ['¡Hola! Estoy aquí para ayudarte en lo que necesites. ¿En qué puedo asistirte hoy?']\n",
      "example =  ¡Hola! Estoy aquí para ayudarte en lo que necesites. ¿En qué puedo asistirte hoy?\n",
      "split_example =  ['¡Hola! Estoy aquí para ayudarte en lo que necesites. ¿En qué puedo asistirte hoy?']\n",
      "example =  ¡Hola! Estoy aquí para ayudarte en lo que necesites. ¿En qué puedo asistirte hoy?\n",
      "split_example =  ['¡Hola! Estoy aquí para ayudarte en lo que necesites. ¿En qué puedo asistirte hoy?']\n",
      "example =  ¡Hola! Estoy aquí para ayudarte en lo que necesites. ¿En qué puedo asistirte hoy?\n",
      "split_example =  ['¡Hola! Estoy aquí para ayudarte en lo que necesites. ¿En qué puedo asistirte hoy?']\n",
      "example =  ¡Hola! Estoy aquí para ayudarte en lo que necesites. ¿En qué puedo asistirte hoy?\n",
      "split_example =  ['¡Hola! Estoy aquí para ayudarte en lo que necesites. ¿En qué puedo asistirte hoy?']\n",
      "example =  ¡Hola! Estoy aquí para ayudarte en lo que necesites. ¿En qué puedo asistirte hoy?\n",
      "split_example =  ['¡Hola! Estoy aquí para ayudarte en lo que necesites. ¿En qué puedo asistirte hoy?']\n",
      "example =  ¡Hola! Estoy aquí para ayudarte en lo que necesites. ¿En qué puedo asistirte hoy?\n",
      "split_example =  ['¡Hola! Estoy aquí para ayudarte en lo que necesites. ¿En qué puedo asistirte hoy?']\n",
      "example =  ¡Hola! Estoy aquí para ayudarte en lo que necesites. ¿En qué puedo asistirte hoy?\n",
      "split_example =  ['¡Hola! Estoy aquí para ayudarte en lo que necesites. ¿En qué puedo asistirte hoy?']\n",
      "example =  ¡Hola! Estoy aquí para ayudarte en lo que necesites. ¿En qué puedo asistirte hoy?\n",
      "split_example =  ['¡Hola! Estoy aquí para ayudarte en lo que necesites. ¿En qué puedo asistirte hoy?']\n",
      "example =  ¡Hola! Estoy aquí para ayudarte en lo que necesites. ¿En qué puedo asistirte hoy?\n",
      "split_example =  ['¡Hola! Estoy aquí para ayudarte en lo que necesites. ¿En qué puedo asistirte hoy?']\n",
      "example =  ¡Hola! Estoy aquí para ayudarte en lo que necesites. ¿En qué puedo asistirte hoy?\n",
      "split_example =  ['¡Hola! Estoy aquí para ayudarte en lo que necesites. ¿En qué puedo asistirte hoy?']\n",
      "example =  ¡Hola! Estoy aquí para ayudarte en lo que necesites. ¿En qué puedo asistirte hoy?\n",
      "split_example =  ['¡Hola! Estoy aquí para ayudarte en lo que necesites. ¿En qué puedo asistirte hoy?']\n",
      "example =  ¡Hola! Estoy aquí para ayudarte en lo que necesites. ¿En qué puedo asistirte hoy?\n",
      "split_example =  ['¡Hola! Estoy aquí para ayudarte en lo que necesites. ¿En qué puedo asistirte hoy?']\n",
      "example =  ¡Hola! Estoy aquí para ayudarte en lo que necesites. ¿En qué puedo asistirte hoy?\n",
      "split_example =  ['¡Hola! Estoy aquí para ayudarte en lo que necesites. ¿En qué puedo asistirte hoy?']\n",
      "example =  ¡Hola! Estoy aquí para ayudarte en lo que necesites. ¿En qué puedo asistirte hoy?\n",
      "split_example =  ['¡Hola! Estoy aquí para ayudarte en lo que necesites. ¿En qué puedo asistirte hoy?']\n",
      "example =  ¡Hola! Estoy aquí para ayudarte en lo que necesites. ¿En qué puedo asistirte hoy?\n",
      "split_example =  ['¡Hola! Estoy aquí para ayudarte en lo que necesites. ¿En qué puedo asistirte hoy?']\n",
      "example =  ¡Hola! Estoy aquí para ayudarte en lo que necesites. ¿En qué puedo asistirte hoy?\n",
      "split_example =  ['¡Hola! Estoy aquí para ayudarte en lo que necesites. ¿En qué puedo asistirte hoy?']\n",
      "example =  ¡Hola! Estoy aquí para ayudarte en lo que necesites. ¿En qué puedo asistirte hoy?\n",
      "split_example =  ['¡Hola! Estoy aquí para ayudarte en lo que necesites. ¿En qué puedo asistirte hoy?']\n",
      "example =  ¡Hola! Estoy aquí para ayudarte en lo que necesites. ¿En qué puedo asistirte hoy?\n",
      "split_example =  ['¡Hola! Estoy aquí para ayudarte en lo que necesites. ¿En qué puedo asistirte hoy?']\n",
      "example =  ¡Hola! Estoy aquí para ayudarte en lo que necesites. ¿En qué puedo asistirte hoy?\n",
      "split_example =  ['¡Hola! Estoy aquí para ayudarte en lo que necesites. ¿En qué puedo asistirte hoy?']\n",
      "example =  ¡Hola! Estoy aquí para ayudarte en lo que necesites. ¿En qué puedo asistirte hoy?\n",
      "split_example =  ['¡Hola! Estoy aquí para ayudarte en lo que necesites. ¿En qué puedo asistirte hoy?']\n",
      "example =  ¡Hola! Estoy aquí para ayudarte en lo que necesites. ¿En qué puedo asistirte hoy?\n",
      "split_example =  ['¡Hola! Estoy aquí para ayudarte en lo que necesites. ¿En qué puedo asistirte hoy?']\n",
      "example =  ¡Hola! Estoy aquí para ayudarte. ¿En qué puedo asistirte hoy?\n",
      "split_example =  ['¡Hola! Estoy aquí para ayudarte. ¿En qué puedo asistirte hoy?']\n",
      "example =  ¡Hola! Estoy aquí para ayudarte en lo que necesites. ¿En qué puedo asistirte hoy?\n",
      "split_example =  ['¡Hola! Estoy aquí para ayudarte en lo que necesites. ¿En qué puedo asistirte hoy?']\n",
      "example =  Hola! Estoy aquí para ayudarte en lo que necesites. ¿En qué puedo asistirte hoy?\n",
      "split_example =  ['Hola! Estoy aquí para ayudarte en lo que necesites. ¿En qué puedo asistirte hoy?']\n",
      "example =  ¡Hola! Estoy aquí para ayudarte en lo que necesites. ¿En qué puedo asistirte hoy?\n",
      "split_example =  ['¡Hola! Estoy aquí para ayudarte en lo que necesites. ¿En qué puedo asistirte hoy?']\n",
      "example =  ¡Hola! Estoy aquí para ayudarte en lo que necesites. ¿En qué puedo asistirte hoy?\n",
      "split_example =  ['¡Hola! Estoy aquí para ayudarte en lo que necesites. ¿En qué puedo asistirte hoy?']\n",
      "example =  ¡Hola! Estoy aquí para ayudarte en lo que necesites. ¿En qué puedo asistirte hoy?\n",
      "split_example =  ['¡Hola! Estoy aquí para ayudarte en lo que necesites. ¿En qué puedo asistirte hoy?']\n",
      "example =  ¡Hola! Estoy aquí para ayudarte en lo que necesites. ¿En qué puedo asistirte hoy?\n",
      "split_example =  ['¡Hola! Estoy aquí para ayudarte en lo que necesites. ¿En qué puedo asistirte hoy?']\n",
      "example =  ¡Hola! Estoy aquí para ayudarte en lo que necesites. ¿En qué puedo asistirte hoy?\n",
      "split_example =  ['¡Hola! Estoy aquí para ayudarte en lo que necesites. ¿En qué puedo asistirte hoy?']\n",
      "example =  ¡Hola! Estoy aquí para ayudarte en lo que necesites. ¿En qué puedo asistirte hoy?\n",
      "split_example =  ['¡Hola! Estoy aquí para ayudarte en lo que necesites. ¿En qué puedo asistirte hoy?']\n",
      "example =  ¡Hola! Estoy aquí para ayudarte en lo que necesites. ¿En qué puedo asistirte hoy?\n",
      "split_example =  ['¡Hola! Estoy aquí para ayudarte en lo que necesites. ¿En qué puedo asistirte hoy?']\n",
      "example =  ¡Hola! Estoy aquí para ayudarte en lo que necesites. ¿En qué puedo asistirte hoy?\n",
      "split_example =  ['¡Hola! Estoy aquí para ayudarte en lo que necesites. ¿En qué puedo asistirte hoy?']\n",
      "There are 0 successfully-generated examples.\n"
     ]
    }
   ],
   "source": [
    "import json\n",
    "import pandas as pd\n",
    "\n",
    "# Initialize lists to store prompts and responses\n",
    "prompts = []\n",
    "responses = []\n",
    "print(len(prev_examples))\n",
    "# Parse out prompts and responses from examples\n",
    "for example in prev_examples:\n",
    "  try:\n",
    "    print('example = ', example)\n",
    "    split_example = example.split('-----------')\n",
    "    print('split_example = ', split_example)\n",
    "    prompts.append(split_example[1].strip())\n",
    "    responses.append(split_example[3].strip())\n",
    "  except:\n",
    "    pass\n",
    "\n",
    "# Create a DataFrame\n",
    "df = pd.DataFrame({\n",
    "    'prompt': prompts,\n",
    "    'response': responses\n",
    "})\n",
    "\n",
    "# Remove duplicates\n",
    "# df = df.drop_duplicates()\n",
    "\n",
    "print('There are ' + str(len(df)) + ' successfully-generated examples.')\n",
    "\n",
    "# Initialize list to store training examples\n",
    "training_examples = []\n",
    "\n",
    "# Create training examples in the format required for GPT-3.5 fine-tuning\n",
    "for index, row in df.iterrows():\n",
    "    training_example = {\n",
    "        \"messages\": [\n",
    "            {\"role\": \"system\", \"content\": system_message.strip()},\n",
    "            {\"role\": \"user\", \"content\": row['prompt']},\n",
    "            {\"role\": \"assistant\", \"content\": row['response']}\n",
    "        ]\n",
    "    }\n",
    "    training_examples.append(training_example)\n",
    "\n",
    "# Save training examples to a .jsonl file\n",
    "with open('training_examples.jsonl', 'w') as f:\n",
    "    for example in training_examples:\n",
    "        f.write(json.dumps(example) + '\\n')"
   ]
  },
  {
   "cell_type": "markdown",
   "metadata": {
    "id": "KWTY6qVgXD_T"
   },
   "source": [
    "# Upload the file to OpenAI"
   ]
  },
  {
   "cell_type": "code",
   "execution_count": null,
   "metadata": {
    "id": "4LjEUrI9XDgT"
   },
   "outputs": [],
   "source": [
    "file_id = client.files.create(\n",
    "  file=open(\"/content/training_examples.jsonl\", \"rb\"),\n",
    "  purpose='fine-tune'\n",
    ").id"
   ]
  },
  {
   "cell_type": "markdown",
   "metadata": {
    "id": "HmYRIq8dW9IR"
   },
   "source": [
    "# Train the model! You may need to wait a few minutes before running the next cell to allow for the file to process on OpenAI's servers."
   ]
  },
  {
   "cell_type": "code",
   "execution_count": null,
   "metadata": {
    "id": "rdEyXmkoW80I"
   },
   "outputs": [],
   "source": [
    "job = openai.FineTuningJob.create(training_file=file_id, model=\"gpt-3.5-turbo\")\n",
    "\n",
    "job_id = job.id"
   ]
  },
  {
   "cell_type": "markdown",
   "metadata": {
    "id": "XUSX5QzmZMTd"
   },
   "source": [
    "# Now, just wait until the fine-tuning run is done, and you'll have a ready-to-use model!\n",
    "\n",
    "Run this cell every 20 minutes or so -- eventually, you'll see a message \"New fine-tuned model created: ft:gpt-3.5-turbo-0613:xxxxxxxxxxxx\"\n",
    "\n",
    "Once you see that message, you can go to the OpenAI Playground (or keep going to the next cells and use the API) to try the model!"
   ]
  },
  {
   "cell_type": "code",
   "execution_count": null,
   "metadata": {
    "id": "45DJZ7hHaBx0"
   },
   "outputs": [],
   "source": [
    "openai.FineTuningJob.list_events(id=job_id, limit=10)"
   ]
  },
  {
   "cell_type": "markdown",
   "metadata": {
    "id": "91ihW2O27Phl"
   },
   "source": [
    "# Once your model is trained, run the next cell to grab the fine-tuned model name."
   ]
  },
  {
   "cell_type": "code",
   "execution_count": null,
   "metadata": {
    "id": "eWBRBPh8aEzH"
   },
   "outputs": [],
   "source": [
    "model_name_pre_object = openai.FineTuningJob.retrieve(job_id)\n",
    "model_name = model_name_pre_object.fine_tuned_model\n",
    "print(model_name)"
   ]
  },
  {
   "cell_type": "markdown",
   "metadata": {
    "id": "2OmZLoBX7oQM"
   },
   "source": [
    "# Let's try it out!"
   ]
  },
  {
   "cell_type": "code",
   "execution_count": null,
   "metadata": {
    "id": "uxbrmzc5dMuC"
   },
   "outputs": [],
   "source": [
    "response = openai.ChatCompletion.create(\n",
    "    model=model_name,\n",
    "    messages=[\n",
    "      {\n",
    "        \"role\": \"system\",\n",
    "        \"content\": system_message,\n",
    "      },\n",
    "      {\n",
    "          \"role\": \"user\",\n",
    "          \"content\": df['prompt'].sample().values[0],\n",
    "      }\n",
    "    ],\n",
    ")\n",
    "\n",
    "response.choices[0].message['content']"
   ]
  }
 ],
 "metadata": {
  "colab": {
   "provenance": []
  },
  "kernelspec": {
   "display_name": "Python 3 (ipykernel)",
   "language": "python",
   "name": "python3"
  },
  "language_info": {
   "codemirror_mode": {
    "name": "ipython",
    "version": 3
   },
   "file_extension": ".py",
   "mimetype": "text/x-python",
   "name": "python",
   "nbconvert_exporter": "python",
   "pygments_lexer": "ipython3",
   "version": "3.11.5"
  }
 },
 "nbformat": 4,
 "nbformat_minor": 1
}
