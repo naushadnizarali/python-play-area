{
 "cells": [
  {
   "cell_type": "code",
   "execution_count": 2,
   "id": "873d7192",
   "metadata": {},
   "outputs": [
    {
     "name": "stdout",
     "output_type": "stream",
     "text": [
      "Requirement already satisfied: opencv-python in /opt/conda/lib/python3.11/site-packages (4.9.0.80)\n",
      "Requirement already satisfied: PyMuPDF in /opt/conda/lib/python3.11/site-packages (1.23.26)\n",
      "Requirement already satisfied: ironpdf in /opt/conda/lib/python3.11/site-packages (2024.3.1.3)\n",
      "Requirement already satisfied: Pillow in /opt/conda/lib/python3.11/site-packages (9.4.0)\n",
      "Collecting pylibjpeg-openjpeg\n",
      "  Obtaining dependency information for pylibjpeg-openjpeg from https://files.pythonhosted.org/packages/ac/cb/b368e368f841e48215126b0bed5c32688b7084c4d126e1229aefed5173d4/pylibjpeg_openjpeg-2.1.1-cp311-cp311-manylinux_2_17_aarch64.manylinux2014_aarch64.whl.metadata\n",
      "  Downloading pylibjpeg_openjpeg-2.1.1-cp311-cp311-manylinux_2_17_aarch64.manylinux2014_aarch64.whl.metadata (5.7 kB)\n",
      "Requirement already satisfied: numpy>=1.21.2 in /opt/conda/lib/python3.11/site-packages (from opencv-python) (1.24.3)\n",
      "Requirement already satisfied: PyMuPDFb==1.23.22 in /opt/conda/lib/python3.11/site-packages (from PyMuPDF) (1.23.22)\n",
      "Requirement already satisfied: pythonnet in /opt/conda/lib/python3.11/site-packages (from ironpdf) (3.0.3)\n",
      "Requirement already satisfied: clr-loader<0.3.0,>=0.2.6 in /opt/conda/lib/python3.11/site-packages (from pythonnet->ironpdf) (0.2.6)\n",
      "Requirement already satisfied: cffi>=1.13 in /opt/conda/lib/python3.11/site-packages (from clr-loader<0.3.0,>=0.2.6->pythonnet->ironpdf) (1.15.1)\n",
      "Requirement already satisfied: pycparser in /opt/conda/lib/python3.11/site-packages (from cffi>=1.13->clr-loader<0.3.0,>=0.2.6->pythonnet->ironpdf) (2.21)\n",
      "Downloading pylibjpeg_openjpeg-2.1.1-cp311-cp311-manylinux_2_17_aarch64.manylinux2014_aarch64.whl (1.2 MB)\n",
      "\u001b[2K   \u001b[90m━━━━━━━━━━━━━━━━━━━━━━━━━━━━━━━━━━━━━━━━\u001b[0m \u001b[32m1.2/1.2 MB\u001b[0m \u001b[31m955.7 kB/s\u001b[0m eta \u001b[36m0:00:00\u001b[0ma \u001b[36m0:00:01\u001b[0m\n",
      "\u001b[?25hInstalling collected packages: pylibjpeg-openjpeg\n",
      "Successfully installed pylibjpeg-openjpeg-2.1.1\n",
      "\u001b[33mWARNING: Running pip as the 'root' user can result in broken permissions and conflicting behaviour with the system package manager. It is recommended to use a virtual environment instead: https://pip.pypa.io/warnings/venv\u001b[0m\u001b[33m\n",
      "\u001b[0m"
     ]
    }
   ],
   "source": [
    "!pip install opencv-python PyMuPDF ironpdf Pillow pylibjpeg-openjpeg"
   ]
  },
  {
   "cell_type": "code",
   "execution_count": null,
   "id": "5ef03c20",
   "metadata": {
    "scrolled": true
   },
   "outputs": [],
   "source": [
    "import cv2\n",
    "import numpy as np\n",
    "\n",
    "# Load the image\n",
    "image_path = './docs/test.png'\n",
    "image = cv2.imread(image_path)\n",
    "\n",
    "# Convert the image to grayscale\n",
    "gray_image = cv2.cvtColor(image, cv2.COLOR_BGR2GRAY)\n",
    "\n",
    "# Apply Gaussian blur to reduce noise\n",
    "blurred_image = cv2.GaussianBlur(gray_image, (5, 5), 0)\n",
    "\n",
    "# Perform edge detection using Canny edge detector\n",
    "edges = cv2.Canny(blurred_image, 50, 150)\n",
    "\n",
    "# Display the original image and processed images\n",
    "cv2.imshow('Original Image', image)\n",
    "cv2.imshow('Grayscale Image', gray_image)\n",
    "cv2.imshow('Blurred Image', blurred_image)\n",
    "cv2.imshow('Edges', edges)\n",
    "\n",
    "# Wait for a key press and close all windows\n",
    "cv2.waitKey(0)\n",
    "cv2.destroyAllWindows()\n"
   ]
  },
  {
   "cell_type": "code",
   "execution_count": null,
   "id": "4cbc0e29",
   "metadata": {},
   "outputs": [],
   "source": [
    "import fitz  # PyMuPDF\n",
    "import os\n",
    "from PIL import Image\n",
    "import io\n",
    "\n",
    "def extract_images_from_pdf(pdf_path, output_dir):\n",
    "    if not os.path.exists(output_dir):\n",
    "        os.makedirs(output_dir)\n",
    "\n",
    "    doc = fitz.open(pdf_path)\n",
    "    for i in range(len(doc)):\n",
    "        for img_index, img in enumerate(doc.get_page_images(i)):\n",
    "            xref = img[0]\n",
    "            base_image = doc.extract_image(xref)\n",
    "            image_bytes = base_image[\"image\"]\n",
    "            image = Image.open(io.BytesIO(image_bytes))\n",
    "            image.save(os.path.join(output_dir, f\"page_{i}_image_{img_index}.png\"))\n",
    "\n",
    "    doc.close()\n",
    "\n",
    "pdf_path = './docs/Doc-6.pdf'\n",
    "output_dir = 'extracted_images6'\n",
    "extract_images_from_pdf(pdf_path, output_dir)\n"
   ]
  },
  {
   "cell_type": "code",
   "execution_count": null,
   "id": "80a3c133",
   "metadata": {},
   "outputs": [],
   "source": [
    "from ironpdf import *\n",
    "# Open PDF file\n",
    "pdf = PdfDocument.FromFile(\"./docs/Doc-6.pdf\") \n",
    "# Get all images found in PDF Document\n",
    "all_images = pdf.ExtractAllImages()\n",
    "# Save each image to the local disk image\n",
    "for i, image in enumerate(all_images):\n",
    "    image.SaveAs(f\"output_image_{i}.png\")"
   ]
  },
  {
   "cell_type": "code",
   "execution_count": 1,
   "id": "d842cd5b",
   "metadata": {
    "scrolled": true
   },
   "outputs": [
    {
     "name": "stdout",
     "output_type": "stream",
     "text": [
      "[+] Found a total of 3 images in page 0\n"
     ]
    },
    {
     "ename": "OSError",
     "evalue": "decoder jpeg2k not available",
     "output_type": "error",
     "traceback": [
      "\u001b[0;31m---------------------------------------------------------------------------\u001b[0m",
      "\u001b[0;31mAttributeError\u001b[0m                            Traceback (most recent call last)",
      "File \u001b[0;32m/opt/conda/lib/python3.11/site-packages/PIL/Image.py:410\u001b[0m, in \u001b[0;36m_getdecoder\u001b[0;34m(mode, decoder_name, args, extra)\u001b[0m\n\u001b[1;32m    408\u001b[0m \u001b[38;5;28;01mtry\u001b[39;00m:\n\u001b[1;32m    409\u001b[0m     \u001b[38;5;66;03m# get decoder\u001b[39;00m\n\u001b[0;32m--> 410\u001b[0m     decoder \u001b[38;5;241m=\u001b[39m \u001b[38;5;28mgetattr\u001b[39m(core, decoder_name \u001b[38;5;241m+\u001b[39m \u001b[38;5;124m\"\u001b[39m\u001b[38;5;124m_decoder\u001b[39m\u001b[38;5;124m\"\u001b[39m)\n\u001b[1;32m    411\u001b[0m \u001b[38;5;28;01mexcept\u001b[39;00m \u001b[38;5;167;01mAttributeError\u001b[39;00m \u001b[38;5;28;01mas\u001b[39;00m e:\n",
      "\u001b[0;31mAttributeError\u001b[0m: module 'PIL._imaging' has no attribute 'jpeg2k_decoder'",
      "\nThe above exception was the direct cause of the following exception:\n",
      "\u001b[0;31mOSError\u001b[0m                                   Traceback (most recent call last)",
      "Cell \u001b[0;32mIn[1], line 46\u001b[0m\n\u001b[1;32m     44\u001b[0m \u001b[38;5;66;03m# Check if the image meets the minimum dimensions and save it\u001b[39;00m\n\u001b[1;32m     45\u001b[0m \u001b[38;5;28;01mif\u001b[39;00m image\u001b[38;5;241m.\u001b[39mwidth \u001b[38;5;241m>\u001b[39m\u001b[38;5;241m=\u001b[39m min_width \u001b[38;5;129;01mand\u001b[39;00m image\u001b[38;5;241m.\u001b[39mheight \u001b[38;5;241m>\u001b[39m\u001b[38;5;241m=\u001b[39m min_height:\n\u001b[0;32m---> 46\u001b[0m     image\u001b[38;5;241m.\u001b[39msave(\n\u001b[1;32m     47\u001b[0m         \u001b[38;5;28mopen\u001b[39m(os\u001b[38;5;241m.\u001b[39mpath\u001b[38;5;241m.\u001b[39mjoin(output_dir, \u001b[38;5;124mf\u001b[39m\u001b[38;5;124m\"\u001b[39m\u001b[38;5;124mimage\u001b[39m\u001b[38;5;132;01m{\u001b[39;00mpage_index\u001b[38;5;250m \u001b[39m\u001b[38;5;241m+\u001b[39m\u001b[38;5;250m \u001b[39m\u001b[38;5;241m1\u001b[39m\u001b[38;5;132;01m}\u001b[39;00m\u001b[38;5;124m_\u001b[39m\u001b[38;5;132;01m{\u001b[39;00mimage_index\u001b[38;5;132;01m}\u001b[39;00m\u001b[38;5;124m.\u001b[39m\u001b[38;5;132;01m{\u001b[39;00moutput_format\u001b[38;5;132;01m}\u001b[39;00m\u001b[38;5;124m\"\u001b[39m), \u001b[38;5;124m\"\u001b[39m\u001b[38;5;124mwb\u001b[39m\u001b[38;5;124m\"\u001b[39m),\n\u001b[1;32m     48\u001b[0m         \u001b[38;5;28mformat\u001b[39m\u001b[38;5;241m=\u001b[39moutput_format\u001b[38;5;241m.\u001b[39mupper())\n\u001b[1;32m     49\u001b[0m \u001b[38;5;28;01melse\u001b[39;00m:\n\u001b[1;32m     50\u001b[0m     \u001b[38;5;28mprint\u001b[39m(\u001b[38;5;124mf\u001b[39m\u001b[38;5;124m\"\u001b[39m\u001b[38;5;124m[-] Skipping image \u001b[39m\u001b[38;5;132;01m{\u001b[39;00mimage_index\u001b[38;5;132;01m}\u001b[39;00m\u001b[38;5;124m on page \u001b[39m\u001b[38;5;132;01m{\u001b[39;00mpage_index\u001b[38;5;132;01m}\u001b[39;00m\u001b[38;5;124m due to its small size.\u001b[39m\u001b[38;5;124m\"\u001b[39m)\n",
      "File \u001b[0;32m/opt/conda/lib/python3.11/site-packages/PIL/Image.py:2394\u001b[0m, in \u001b[0;36mImage.save\u001b[0;34m(self, fp, format, **params)\u001b[0m\n\u001b[1;32m   2391\u001b[0m     filename \u001b[38;5;241m=\u001b[39m fp\u001b[38;5;241m.\u001b[39mname\n\u001b[1;32m   2393\u001b[0m \u001b[38;5;66;03m# may mutate self!\u001b[39;00m\n\u001b[0;32m-> 2394\u001b[0m \u001b[38;5;28mself\u001b[39m\u001b[38;5;241m.\u001b[39m_ensure_mutable()\n\u001b[1;32m   2396\u001b[0m save_all \u001b[38;5;241m=\u001b[39m params\u001b[38;5;241m.\u001b[39mpop(\u001b[38;5;124m\"\u001b[39m\u001b[38;5;124msave_all\u001b[39m\u001b[38;5;124m\"\u001b[39m, \u001b[38;5;28;01mFalse\u001b[39;00m)\n\u001b[1;32m   2397\u001b[0m \u001b[38;5;28mself\u001b[39m\u001b[38;5;241m.\u001b[39mencoderinfo \u001b[38;5;241m=\u001b[39m params\n",
      "File \u001b[0;32m/opt/conda/lib/python3.11/site-packages/PIL/Image.py:611\u001b[0m, in \u001b[0;36mImage._ensure_mutable\u001b[0;34m(self)\u001b[0m\n\u001b[1;32m    609\u001b[0m \u001b[38;5;28;01mdef\u001b[39;00m \u001b[38;5;21m_ensure_mutable\u001b[39m(\u001b[38;5;28mself\u001b[39m):\n\u001b[1;32m    610\u001b[0m     \u001b[38;5;28;01mif\u001b[39;00m \u001b[38;5;28mself\u001b[39m\u001b[38;5;241m.\u001b[39mreadonly:\n\u001b[0;32m--> 611\u001b[0m         \u001b[38;5;28mself\u001b[39m\u001b[38;5;241m.\u001b[39m_copy()\n\u001b[1;32m    612\u001b[0m     \u001b[38;5;28;01melse\u001b[39;00m:\n\u001b[1;32m    613\u001b[0m         \u001b[38;5;28mself\u001b[39m\u001b[38;5;241m.\u001b[39mload()\n",
      "File \u001b[0;32m/opt/conda/lib/python3.11/site-packages/PIL/Image.py:604\u001b[0m, in \u001b[0;36mImage._copy\u001b[0;34m(self)\u001b[0m\n\u001b[1;32m    603\u001b[0m \u001b[38;5;28;01mdef\u001b[39;00m \u001b[38;5;21m_copy\u001b[39m(\u001b[38;5;28mself\u001b[39m):\n\u001b[0;32m--> 604\u001b[0m     \u001b[38;5;28mself\u001b[39m\u001b[38;5;241m.\u001b[39mload()\n\u001b[1;32m    605\u001b[0m     \u001b[38;5;28mself\u001b[39m\u001b[38;5;241m.\u001b[39mim \u001b[38;5;241m=\u001b[39m \u001b[38;5;28mself\u001b[39m\u001b[38;5;241m.\u001b[39mim\u001b[38;5;241m.\u001b[39mcopy()\n\u001b[1;32m    606\u001b[0m     \u001b[38;5;28mself\u001b[39m\u001b[38;5;241m.\u001b[39mpyaccess \u001b[38;5;241m=\u001b[39m \u001b[38;5;28;01mNone\u001b[39;00m\n",
      "File \u001b[0;32m/opt/conda/lib/python3.11/site-packages/PIL/Jpeg2KImagePlugin.py:282\u001b[0m, in \u001b[0;36mJpeg2KImageFile.load\u001b[0;34m(self)\u001b[0m\n\u001b[1;32m    279\u001b[0m     t3 \u001b[38;5;241m=\u001b[39m (t[\u001b[38;5;241m3\u001b[39m][\u001b[38;5;241m0\u001b[39m], \u001b[38;5;28mself\u001b[39m\u001b[38;5;241m.\u001b[39m_reduce, \u001b[38;5;28mself\u001b[39m\u001b[38;5;241m.\u001b[39mlayers, t[\u001b[38;5;241m3\u001b[39m][\u001b[38;5;241m3\u001b[39m], t[\u001b[38;5;241m3\u001b[39m][\u001b[38;5;241m4\u001b[39m])\n\u001b[1;32m    280\u001b[0m     \u001b[38;5;28mself\u001b[39m\u001b[38;5;241m.\u001b[39mtile \u001b[38;5;241m=\u001b[39m [(t[\u001b[38;5;241m0\u001b[39m], (\u001b[38;5;241m0\u001b[39m, \u001b[38;5;241m0\u001b[39m) \u001b[38;5;241m+\u001b[39m \u001b[38;5;28mself\u001b[39m\u001b[38;5;241m.\u001b[39msize, t[\u001b[38;5;241m2\u001b[39m], t3)]\n\u001b[0;32m--> 282\u001b[0m \u001b[38;5;28;01mreturn\u001b[39;00m ImageFile\u001b[38;5;241m.\u001b[39mImageFile\u001b[38;5;241m.\u001b[39mload(\u001b[38;5;28mself\u001b[39m)\n",
      "File \u001b[0;32m/opt/conda/lib/python3.11/site-packages/PIL/ImageFile.py:237\u001b[0m, in \u001b[0;36mImageFile.load\u001b[0;34m(self)\u001b[0m\n\u001b[1;32m    235\u001b[0m \u001b[38;5;28;01mfor\u001b[39;00m decoder_name, extents, offset, args \u001b[38;5;129;01min\u001b[39;00m \u001b[38;5;28mself\u001b[39m\u001b[38;5;241m.\u001b[39mtile:\n\u001b[1;32m    236\u001b[0m     seek(offset)\n\u001b[0;32m--> 237\u001b[0m     decoder \u001b[38;5;241m=\u001b[39m Image\u001b[38;5;241m.\u001b[39m_getdecoder(\n\u001b[1;32m    238\u001b[0m         \u001b[38;5;28mself\u001b[39m\u001b[38;5;241m.\u001b[39mmode, decoder_name, args, \u001b[38;5;28mself\u001b[39m\u001b[38;5;241m.\u001b[39mdecoderconfig\n\u001b[1;32m    239\u001b[0m     )\n\u001b[1;32m    240\u001b[0m     \u001b[38;5;28;01mtry\u001b[39;00m:\n\u001b[1;32m    241\u001b[0m         decoder\u001b[38;5;241m.\u001b[39msetimage(\u001b[38;5;28mself\u001b[39m\u001b[38;5;241m.\u001b[39mim, extents)\n",
      "File \u001b[0;32m/opt/conda/lib/python3.11/site-packages/PIL/Image.py:413\u001b[0m, in \u001b[0;36m_getdecoder\u001b[0;34m(mode, decoder_name, args, extra)\u001b[0m\n\u001b[1;32m    411\u001b[0m \u001b[38;5;28;01mexcept\u001b[39;00m \u001b[38;5;167;01mAttributeError\u001b[39;00m \u001b[38;5;28;01mas\u001b[39;00m e:\n\u001b[1;32m    412\u001b[0m     msg \u001b[38;5;241m=\u001b[39m \u001b[38;5;124mf\u001b[39m\u001b[38;5;124m\"\u001b[39m\u001b[38;5;124mdecoder \u001b[39m\u001b[38;5;132;01m{\u001b[39;00mdecoder_name\u001b[38;5;132;01m}\u001b[39;00m\u001b[38;5;124m not available\u001b[39m\u001b[38;5;124m\"\u001b[39m\n\u001b[0;32m--> 413\u001b[0m     \u001b[38;5;28;01mraise\u001b[39;00m \u001b[38;5;167;01mOSError\u001b[39;00m(msg) \u001b[38;5;28;01mfrom\u001b[39;00m \u001b[38;5;21;01me\u001b[39;00m\n\u001b[1;32m    414\u001b[0m \u001b[38;5;28;01mreturn\u001b[39;00m decoder(mode, \u001b[38;5;241m*\u001b[39margs \u001b[38;5;241m+\u001b[39m extra)\n",
      "\u001b[0;31mOSError\u001b[0m: decoder jpeg2k not available"
     ]
    }
   ],
   "source": [
    "import os\n",
    "import fitz  # PyMuPDF\n",
    "import io\n",
    "from PIL import Image\n",
    "\n",
    "# Output directory for the extracted images\n",
    "output_dir = \"extracted_images6\"\n",
    "# Desired output image format\n",
    "output_format = \"png\"\n",
    "# Minimum width and height for extracted images\n",
    "min_width = 100\n",
    "min_height = 100\n",
    "# Create the output directory if it does not exist\n",
    "if not os.path.exists(output_dir):\n",
    "    os.makedirs(output_dir)\n",
    "\n",
    "# file path you want to extract images from\n",
    "file = \"./docs/Doc-6.pdf\"\n",
    "# open the file\n",
    "pdf_file = fitz.open(file)\n",
    "\n",
    "# Iterate over PDF pages\n",
    "for page_index in range(len(pdf_file)):\n",
    "    # Get the page itself\n",
    "    page = pdf_file[page_index]\n",
    "    # Get image list\n",
    "    image_list = page.get_images(full=True)\n",
    "    # Print the number of images found on this page\n",
    "    if image_list:\n",
    "        print(f\"[+] Found a total of {len(image_list)} images in page {page_index}\")\n",
    "    else:\n",
    "        print(f\"[!] No images found on page {page_index}\")\n",
    "    # Iterate over the images on the page\n",
    "    for image_index, img in enumerate(image_list, start=1):\n",
    "        # Get the XREF of the image\n",
    "        xref = img[0]\n",
    "        # Extract the image bytes\n",
    "        base_image = pdf_file.extract_image(xref)\n",
    "        image_bytes = base_image[\"image\"]\n",
    "        # Get the image extension\n",
    "        image_ext = base_image[\"ext\"]\n",
    "        # Load it to PIL\n",
    "        image = Image.open(io.BytesIO(image_bytes))\n",
    "        # Check if the image meets the minimum dimensions and save it\n",
    "        if image.width >= min_width and image.height >= min_height:\n",
    "            image.save(\n",
    "                open(os.path.join(output_dir, f\"image{page_index + 1}_{image_index}.{output_format}\"), \"wb\"),\n",
    "                format=output_format.upper())\n",
    "        else:\n",
    "            print(f\"[-] Skipping image {image_index} on page {page_index} due to its small size.\")\n"
   ]
  },
  {
   "cell_type": "code",
   "execution_count": 2,
   "id": "b7f5f890",
   "metadata": {},
   "outputs": [],
   "source": [
    "import pandas as pd"
   ]
  },
  {
   "cell_type": "code",
   "execution_count": 4,
   "id": "93ea0f2c",
   "metadata": {},
   "outputs": [],
   "source": [
    "df = pd.read_csv(\"./docs/wbs.csv\")"
   ]
  },
  {
   "cell_type": "code",
   "execution_count": 5,
   "id": "ea1e9eed",
   "metadata": {},
   "outputs": [
    {
     "data": {
      "text/html": [
       "<div>\n",
       "<style scoped>\n",
       "    .dataframe tbody tr th:only-of-type {\n",
       "        vertical-align: middle;\n",
       "    }\n",
       "\n",
       "    .dataframe tbody tr th {\n",
       "        vertical-align: top;\n",
       "    }\n",
       "\n",
       "    .dataframe thead th {\n",
       "        text-align: right;\n",
       "    }\n",
       "</style>\n",
       "<table border=\"1\" class=\"dataframe\">\n",
       "  <thead>\n",
       "    <tr style=\"text-align: right;\">\n",
       "      <th></th>\n",
       "      <th>Level</th>\n",
       "      <th>Category</th>\n",
       "      <th>Subcategory</th>\n",
       "      <th>User Story</th>\n",
       "      <th>Effort (Weeks)</th>\n",
       "    </tr>\n",
       "  </thead>\n",
       "  <tbody>\n",
       "    <tr>\n",
       "      <th>0</th>\n",
       "      <td>1</td>\n",
       "      <td>Analysis</td>\n",
       "      <td>Requirements Gathering</td>\n",
       "      <td>Gather user requirements focusing on login fun...</td>\n",
       "      <td>1</td>\n",
       "    </tr>\n",
       "    <tr>\n",
       "      <th>1</th>\n",
       "      <td>1</td>\n",
       "      <td>Analysis</td>\n",
       "      <td>Requirements Gathering</td>\n",
       "      <td>Document requirements for registration functio...</td>\n",
       "      <td>2</td>\n",
       "    </tr>\n",
       "    <tr>\n",
       "      <th>2</th>\n",
       "      <td>1</td>\n",
       "      <td>Analysis</td>\n",
       "      <td>Requirements Gathering</td>\n",
       "      <td>Outline search functionality requirements, wit...</td>\n",
       "      <td>1</td>\n",
       "    </tr>\n",
       "    <tr>\n",
       "      <th>3</th>\n",
       "      <td>1</td>\n",
       "      <td>Analysis</td>\n",
       "      <td>Technical Specifications</td>\n",
       "      <td>Specify programming languages and frameworks f...</td>\n",
       "      <td>1</td>\n",
       "    </tr>\n",
       "    <tr>\n",
       "      <th>4</th>\n",
       "      <td>1</td>\n",
       "      <td>Analysis</td>\n",
       "      <td>Technical Specifications</td>\n",
       "      <td>Define API specifications for GPS and internet...</td>\n",
       "      <td>1</td>\n",
       "    </tr>\n",
       "  </tbody>\n",
       "</table>\n",
       "</div>"
      ],
      "text/plain": [
       "   Level  Category               Subcategory  \\\n",
       "0      1  Analysis    Requirements Gathering   \n",
       "1      1  Analysis    Requirements Gathering   \n",
       "2      1  Analysis    Requirements Gathering   \n",
       "3      1  Analysis  Technical Specifications   \n",
       "4      1  Analysis  Technical Specifications   \n",
       "\n",
       "                                          User Story  Effort (Weeks)  \n",
       "0  Gather user requirements focusing on login fun...               1  \n",
       "1  Document requirements for registration functio...               2  \n",
       "2  Outline search functionality requirements, wit...               1  \n",
       "3  Specify programming languages and frameworks f...               1  \n",
       "4  Define API specifications for GPS and internet...               1  "
      ]
     },
     "execution_count": 5,
     "metadata": {},
     "output_type": "execute_result"
    }
   ],
   "source": [
    "df.head()"
   ]
  },
  {
   "cell_type": "code",
   "execution_count": 8,
   "id": "8f41ec06",
   "metadata": {},
   "outputs": [
    {
     "name": "stdout",
     "output_type": "stream",
     "text": [
      "                                           User Story\n",
      "0   Gather user requirements focusing on login fun...\n",
      "1   Document requirements for registration functio...\n",
      "2   Outline search functionality requirements, wit...\n",
      "3   Specify programming languages and frameworks f...\n",
      "4   Define API specifications for GPS and internet...\n",
      "5   Design the login page, incorporating user feed...\n",
      "6   Create detailed wireframes for the search page...\n",
      "7   Design the profile and information pages with ...\n",
      "8   Develop high-fidelity prototypes for key scree...\n",
      "9   Define the mobile application's architecture, ...\n",
      "10  Design the web portal's architecture, ensuring...\n",
      "11  Outline a microservices architecture for easie...\n",
      "12  Specify encryption protocols for data transmis...\n",
      "13  Design a token-based authentication system for...\n",
      "14  Implement login functionality with OAuth and m...\n",
      "15  Develop registration functionality, including ...\n",
      "16  Implement search functionality with dynamic fi...\n",
      "17  Integrate Google Maps API for location-based s...\n",
      "18  Set up the administrative dashboard for restau...\n",
      "19  Implement user management for restaurant owner...\n",
      "20  Develop service for syncing data between mobil...\n",
      "21  Design and implement the database schema focus...\n",
      "22  Set up database replication and backup strateg...\n",
      "23  Automate testing for login, registration, and ...\n",
      "24  Perform penetration testing to identify vulner...\n",
      "25  Conduct load testing to ensure the application...\n",
      "26  Prepare deployment pipeline for continuous del...\n",
      "27  Set up a system for collecting and analyzing u...\n",
      "28  Develop a feature flag system for rolling out ...\n"
     ]
    }
   ],
   "source": [
    "print(df[['User Story']])"
   ]
  },
  {
   "cell_type": "code",
   "execution_count": 10,
   "id": "7571514f",
   "metadata": {},
   "outputs": [],
   "source": [
    "df2 = df[['User Story']]"
   ]
  },
  {
   "cell_type": "code",
   "execution_count": 11,
   "id": "a9ed1cb2",
   "metadata": {},
   "outputs": [
    {
     "data": {
      "text/html": [
       "<div>\n",
       "<style scoped>\n",
       "    .dataframe tbody tr th:only-of-type {\n",
       "        vertical-align: middle;\n",
       "    }\n",
       "\n",
       "    .dataframe tbody tr th {\n",
       "        vertical-align: top;\n",
       "    }\n",
       "\n",
       "    .dataframe thead th {\n",
       "        text-align: right;\n",
       "    }\n",
       "</style>\n",
       "<table border=\"1\" class=\"dataframe\">\n",
       "  <thead>\n",
       "    <tr style=\"text-align: right;\">\n",
       "      <th></th>\n",
       "      <th>User Story</th>\n",
       "    </tr>\n",
       "  </thead>\n",
       "  <tbody>\n",
       "    <tr>\n",
       "      <th>0</th>\n",
       "      <td>Gather user requirements focusing on login fun...</td>\n",
       "    </tr>\n",
       "    <tr>\n",
       "      <th>1</th>\n",
       "      <td>Document requirements for registration functio...</td>\n",
       "    </tr>\n",
       "    <tr>\n",
       "      <th>2</th>\n",
       "      <td>Outline search functionality requirements, wit...</td>\n",
       "    </tr>\n",
       "    <tr>\n",
       "      <th>3</th>\n",
       "      <td>Specify programming languages and frameworks f...</td>\n",
       "    </tr>\n",
       "    <tr>\n",
       "      <th>4</th>\n",
       "      <td>Define API specifications for GPS and internet...</td>\n",
       "    </tr>\n",
       "  </tbody>\n",
       "</table>\n",
       "</div>"
      ],
      "text/plain": [
       "                                          User Story\n",
       "0  Gather user requirements focusing on login fun...\n",
       "1  Document requirements for registration functio...\n",
       "2  Outline search functionality requirements, wit...\n",
       "3  Specify programming languages and frameworks f...\n",
       "4  Define API specifications for GPS and internet..."
      ]
     },
     "execution_count": 11,
     "metadata": {},
     "output_type": "execute_result"
    }
   ],
   "source": [
    "df2.head()"
   ]
  },
  {
   "cell_type": "code",
   "execution_count": 12,
   "id": "058b8cde",
   "metadata": {},
   "outputs": [],
   "source": [
    "df2.to_csv('s.csv')"
   ]
  },
  {
   "cell_type": "code",
   "execution_count": null,
   "id": "d8782a06",
   "metadata": {},
   "outputs": [],
   "source": []
  }
 ],
 "metadata": {
  "kernelspec": {
   "display_name": "Python 3 (ipykernel)",
   "language": "python",
   "name": "python3"
  },
  "language_info": {
   "codemirror_mode": {
    "name": "ipython",
    "version": 3
   },
   "file_extension": ".py",
   "mimetype": "text/x-python",
   "name": "python",
   "nbconvert_exporter": "python",
   "pygments_lexer": "ipython3",
   "version": "3.11.5"
  }
 },
 "nbformat": 4,
 "nbformat_minor": 5
}
