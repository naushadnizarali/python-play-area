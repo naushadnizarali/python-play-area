{
 "cells": [
  {
   "cell_type": "code",
   "execution_count": null,
   "id": "75a6cd0d",
   "metadata": {
    "scrolled": true,
    "tags": []
   },
   "outputs": [],
   "source": [
    "!pip3 install pandas openai langchain langchain_community rapidocr-onnxruntime pypdf faiss-cpu langchain_openai"
   ]
  },
  {
   "cell_type": "code",
   "execution_count": null,
   "id": "4c3a84b2",
   "metadata": {
    "editable": true,
    "slideshow": {
     "slide_type": ""
    },
    "tags": []
   },
   "outputs": [],
   "source": [
    "import os\n",
    "import openai\n",
    "import pandas as pd\n",
    "\n",
    "from datetime import datetime\n",
    "\n",
    "from langchain_openai import OpenAIEmbeddings, ChatOpenAI\n",
    "from langchain.text_splitter import RecursiveCharacterTextSplitter\n",
    "from langchain_community.document_loaders import PyPDFLoader\n",
    "from langchain_community.vectorstores import FAISS\n",
    "from langchain_community.llms import LlamaCpp\n",
    "from langchain.prompts.prompt import PromptTemplate\n",
    "from langchain_core.output_parsers import StrOutputParser\n",
    "from langchain_core.runnables import RunnablePassthrough\n",
    "# from questions import questions\n",
    "# from answers import responses\n",
    "# from helper import (\n",
    "#     text_to_csv,\n",
    "#     get_time_difference,\n",
    "#     filter_csv,\n",
    "#     read_csv,\n",
    "#     read_counter,\n",
    "#     increment_counter,\n",
    "#     text_to_file,\n",
    "# )\n",
    "from secret import OPENAI_API_KEY\n",
    "\n",
    "os.environ[\"OPENAI_API_KEY\"] = OPENAI_API_KEY\n",
    "embeddings = OpenAIEmbeddings(openai_api_key=os.environ[\"OPENAI_API_KEY\"])\n",
    "vector_store_path = \"./vector_store\"\n",
    "openai.api_key = os.environ[\"OPENAI_API_KEY\"]"
   ]
  },
  {
   "cell_type": "code",
   "execution_count": null,
   "id": "72051bb5",
   "metadata": {
    "tags": []
   },
   "outputs": [],
   "source": [
    "def create_vector_store(file_path):\n",
    "    loader = PyPDFLoader(file_path, extract_images=True)\n",
    "    \n",
    "    text_splitter = RecursiveCharacterTextSplitter(\n",
    "        chunk_size=1000,\n",
    "        chunk_overlap=20,\n",
    "        keep_separator=False,\n",
    "        separators=[\"\\n\\n\", \"\\n\", \"\"],\n",
    "    )\n",
    "    \n",
    "    splitted_documents = loader.load_and_split(text_splitter=text_splitter)\n",
    "    \n",
    "    # splitted_documents = text_splitter.split_documents(documents)\n",
    "    \n",
    "    vectordb = FAISS.from_documents(splitted_documents, embedding=embeddings)\n",
    "    vectordb.save_local(vector_store_path)\n",
    "    \n",
    "    return splitted_documents\n",
    "\n",
    "def format_docs(docs):\n",
    "    return \"\\n\\n\".join(doc.page_content for doc in docs)\n",
    "\n",
    "\n",
    "def get_retriever():\n",
    "    vectorstore = FAISS.load_local(\n",
    "        vector_store_path, embeddings, allow_dangerous_deserialization=True\n",
    "    )\n",
    "\n",
    "    retriever = vectorstore.as_retriever(search_kwargs={\"k\": 20})\n",
    "\n",
    "    return retriever"
   ]
  },
  {
   "cell_type": "code",
   "execution_count": null,
   "id": "6ff172b1",
   "metadata": {
    "tags": []
   },
   "outputs": [],
   "source": [
    "doc_name = \"Doc-5\"\n",
    "file_path = f\"./docs/{doc_name}.pdf\""
   ]
  },
  {
   "cell_type": "code",
   "execution_count": null,
   "id": "850c8b6e-e9fe-4fa8-8ccb-e172372d8cb4",
   "metadata": {},
   "outputs": [],
   "source": [
    "docs= create_vector_store(file_path)"
   ]
  },
  {
   "cell_type": "code",
   "execution_count": null,
   "id": "4ab7b77f-fc22-4b30-9882-68c6c831b2eb",
   "metadata": {},
   "outputs": [],
   "source": [
    "llm = ChatOpenAI(\n",
    "    model=\"gpt-4-0125-preview\",  # \"ft:gpt-3.5-turbo-1106:mobilelive-inc:irap-model:8mTN1w61\",\n",
    "    openai_api_key=os.environ[\"OPENAI_API_KEY\"],\n",
    "    temperature=0.5,\n",
    ")\n",
    "\n",
    "retriever = get_retriever()"
   ]
  },
  {
   "cell_type": "code",
   "execution_count": null,
   "id": "ec21eb57-36e2-4ea7-947f-8f27ed8c5543",
   "metadata": {},
   "outputs": [],
   "source": [
    "from answers import responses"
   ]
  },
  {
   "cell_type": "code",
   "execution_count": null,
   "id": "66a2977e-11ad-459e-8b6f-9d71198bc542",
   "metadata": {},
   "outputs": [],
   "source": [
    "def get_prompt(template=None):\n",
    "    if template is None:\n",
    "        template = \"\"\"You are an AI assistant to answer question as per the given context. \n",
    "        Use the following pieces of retrieved context to answer the question. \n",
    "        Please provide answer as per the given context.\n",
    "      Question: {question}\n",
    "      Context: {context}\n",
    "      Answer:\n",
    "      \"\"\"\n",
    "\n",
    "    prompt_template = PromptTemplate(\n",
    "        template=template,\n",
    "        input_variables=[\n",
    "            \"context\",\n",
    "            \"question\",\n",
    "        ],\n",
    "    )\n",
    "\n",
    "    return prompt_template"
   ]
  },
  {
   "cell_type": "code",
   "execution_count": null,
   "id": "e5b19960-6a4f-4605-bc85-f33cdfa64115",
   "metadata": {},
   "outputs": [],
   "source": [
    "import os \n",
    "\n",
    "folder_path = f\"./output/{doc_name}\"\n",
    "\n",
    "if not os.path.exists(folder_path):\n",
    "    os.makedirs(folder_path)"
   ]
  },
  {
   "cell_type": "code",
   "execution_count": null,
   "id": "0608e6e3-b150-4c32-a033-f130d52ff02d",
   "metadata": {},
   "outputs": [],
   "source": [
    "def get_prompt_with_qa():\n",
    "    template = \"\"\"You are an AI assistant which is acting as a Technical Project Manager. \n",
    "    Provide the required information to the best of your knowledge.\n",
    "\n",
    "    Please generate CSV-formatted data containing the following fields:\n",
    "     \"Level,Category,Subcategory,User Story,Effort (Days)\"\n",
    "    Ensure that the CSV format adheres to standard conventions, with comma-separated values and proper line breaks.\n",
    "\n",
    "    CSV_FORMAT:\n",
    "        Level,Category,Subcategory,User Story,Effort (Days)\n",
    "\n",
    "    OBJECTIVE:\n",
    "    The objective is to develop a structured and informative WBS that will serve as a clear roadmap for project execution, encompassing both technical and non-technical aspects\n",
    "\n",
    "    CONTEXT:\n",
    "    Consider the following sets of Questions and Answers for context:\\n\"\"\"\n",
    "    for question, response in responses.items():\n",
    "        template += f\"QUES: {question.strip()}\\nANS: {response.strip()}\\n\\n\"\n",
    "\n",
    "    template +=\"\"\"\n",
    "      Question: {question}\n",
    "      Context: {context}\n",
    "      Answer:\n",
    "      \"\"\"\n",
    "\n",
    "    prompt_template = PromptTemplate(\n",
    "        template=template,\n",
    "        input_variables=[\n",
    "            \"context\",\n",
    "            \"question\",\n",
    "        ],\n",
    "    )\n",
    "\n",
    "    return prompt_template"
   ]
  },
  {
   "cell_type": "code",
   "execution_count": null,
   "id": "cef825f5-831a-49e6-b9ef-d31065cecded",
   "metadata": {},
   "outputs": [],
   "source": [
    "def get_prompt_for_dev_tasks(contents):\n",
    "    template = f\"\"\"You are an AI assistant which is acting as a Technical Project Manager. \n",
    "    Provide the required information to the best of your knowledge.\n",
    "\n",
    "    Please generate CSV-formatted data containing the following fields:\n",
    "     \"Level,Category,Subcategory,User Story,Effort (Days)\"\n",
    "    Ensure that the CSV format adheres to standard conventions, with comma-separated values and proper line breaks.\n",
    "\n",
    "    REQUIREMEMTS:\n",
    "    \\n{contents}\\n\n",
    "    \"\"\"\n",
    "\n",
    "    template +=\"\"\"\n",
    "      Question: {question}\n",
    "      Context: {context}\n",
    "      Answer:\n",
    "      \"\"\"\n",
    "\n",
    "    prompt_template = PromptTemplate(\n",
    "        template=template,\n",
    "        input_variables=[\n",
    "            \"context\",\n",
    "            \"question\",\n",
    "        ],\n",
    "    )\n",
    "\n",
    "    return prompt_template"
   ]
  },
  {
   "cell_type": "code",
   "execution_count": null,
   "id": "643dddef-4b07-4734-ad77-b4f24ad20237",
   "metadata": {},
   "outputs": [],
   "source": [
    "prompt = get_prompt_with_qa()\n",
    "\n",
    "rag_chain = (\n",
    "    {\"context\": retriever | format_docs, \"question\": RunnablePassthrough()}\n",
    "    | prompt\n",
    "    | llm\n",
    "    | StrOutputParser()\n",
    ")"
   ]
  },
  {
   "cell_type": "code",
   "execution_count": null,
   "id": "56636c42-97e7-420d-9067-74342467b425",
   "metadata": {
    "editable": true,
    "slideshow": {
     "slide_type": ""
    },
    "tags": []
   },
   "outputs": [],
   "source": [
    "query = \"\"\"TASK:\n",
    "    Your task is to create a comprehensive list of user stories covering all major aspects of the software project, \n",
    "    including Analysis, Design, Development, Testing, and Deployment. \n",
    "    Please provide detailed user stories for DESIGN and DEVELOPMENT (at least 10-12 user stories for each subcategory). \n",
    "    Ensure that the user stories are structured hierarchically and organized logically to facilitate project management. You need to include as much technical details as possible.\n",
    "    Additionally, provide the estimate the effort (in days) with some buffer required for each user story and provide a total of EFFORTS column. \n",
    "   \"\"\"\n",
    "\n",
    "first_pass = rag_chain.invoke(query)\n",
    "print(first_pass)"
   ]
  },
  {
   "cell_type": "code",
   "execution_count": null,
   "id": "196b11ed-2846-4863-bf7f-eb55d3fb8390",
   "metadata": {
    "editable": true,
    "slideshow": {
     "slide_type": ""
    },
    "tags": []
   },
   "outputs": [],
   "source": [
    "llm = ChatOpenAI(\n",
    "    model=\"gpt-4-0125-preview\",  \n",
    "    openai_api_key=os.environ[\"OPENAI_API_KEY\"],\n",
    "    temperature=0.7,\n",
    ")\n",
    "\n",
    "retriever = get_retriever()\n",
    "prompt = get_prompt_for_dev_tasks(first_pass)\n",
    "\n",
    "rag_chain = (\n",
    "    {\"context\": retriever | format_docs, \"question\": RunnablePassthrough()}\n",
    "    | prompt\n",
    "    | llm\n",
    "    | StrOutputParser()\n",
    ")"
   ]
  },
  {
   "cell_type": "code",
   "execution_count": null,
   "id": "18e614f7-ff38-4002-b301-b0040b893d3e",
   "metadata": {
    "editable": true,
    "slideshow": {
     "slide_type": ""
    },
    "tags": []
   },
   "outputs": [],
   "source": [
    "query = \"\"\" TASK:\n",
    "    You have been given an high-level list of requirements covering all major aspects of the software project. \n",
    "    Your task is to further divide the given requirements, also include technical detailes in them and keep them as detailed as possible. \n",
    "    Please provide atleast 10-12 detailed requirements for each subcategory. Keep your major focus on DESIGN and DEVELOPMENT tasks and minor focus on others.\n",
    "    Additionally, provide the estimate the effort (in days) to the best of your knowledge, \n",
    "    with some buffer required for each requirement.\n",
    "\n",
    "    TOTAL EFFORTS:\n",
    "    \"\"\"\n",
    "\n",
    "second_pass = rag_chain.invoke(query)\n",
    "print(second_pass)"
   ]
  },
  {
   "cell_type": "code",
   "execution_count": null,
   "id": "0015f503-9377-42b3-9c78-8f012a55da3d",
   "metadata": {},
   "outputs": [],
   "source": [
    "template = \"\"\"You are an AI assistant which is acting as a Technical Project Manager. \n",
    "Provide the required information to the best of your knowledge.\n",
    "\n",
    "Please generate CSV-formatted data containing the following fields:\n",
    " \"Level,Category,Subcategory,User Story,Effort (Days)\"\n",
    "Ensure that the CSV format adheres to standard conventions, with comma-separated values and proper line breaks.\n",
    "\n",
    "  Question: {question}\n",
    "  Context: {context}\n",
    "  Answer:\n",
    "  \"\"\"\n",
    "\n",
    "prompt_template = PromptTemplate(\n",
    "    template=template,\n",
    "    input_variables=[\n",
    "        \"context\",\n",
    "        \"question\",\n",
    "    ],\n",
    ")\n",
    "\n",
    "llm = ChatOpenAI(\n",
    "    model=\"gpt-4-0125-preview\",  \n",
    "    openai_api_key=os.environ[\"OPENAI_API_KEY\"],\n",
    "    temperature=0.7,\n",
    ")\n",
    "\n",
    "retriever = get_retriever()\n",
    "prompt = prompt_template\n",
    "\n",
    "rag_chain = (\n",
    "    {\"context\": retriever | format_docs, \"question\": RunnablePassthrough()}\n",
    "    | prompt\n",
    "    | llm\n",
    "    | StrOutputParser()\n",
    ")"
   ]
  },
  {
   "cell_type": "code",
   "execution_count": null,
   "id": "19f9c25f-d8e8-4f60-b529-552b6a56718f",
   "metadata": {
    "editable": true,
    "slideshow": {
     "slide_type": ""
    },
    "tags": []
   },
   "outputs": [],
   "source": [
    "query = \"\"\"TASK:\n",
    "    Your task is to create a comprehensive list of user stories covering all major aspects of the software project, \n",
    "    including Analysis, Design, Development, Testing, and Deployment. \n",
    "    Please provide at least 10-12 user stories for each category and subcategory. \n",
    "    Ensure that the user stories are structured hierarchically and organized logically to facilitate project management. You need to include as much technical details as possible.\n",
    "    Additionally, provide the estimate the effort (in days) with some buffer required for each user story and provide a total of EFFORTS column. \n",
    "   \"\"\"\n",
    "\n",
    "third_pass = rag_chain.invoke(query)\n",
    "print(third_pass)"
   ]
  },
  {
   "cell_type": "code",
   "execution_count": null,
   "id": "f5f0de59-d256-47e4-8b3a-ba4076c9808d",
   "metadata": {},
   "outputs": [],
   "source": []
  }
 ],
 "metadata": {
  "kernelspec": {
   "display_name": "Python 3 (ipykernel)",
   "language": "python",
   "name": "python3"
  },
  "language_info": {
   "codemirror_mode": {
    "name": "ipython",
    "version": 3
   },
   "file_extension": ".py",
   "mimetype": "text/x-python",
   "name": "python",
   "nbconvert_exporter": "python",
   "pygments_lexer": "ipython3",
   "version": "3.12.2"
  }
 },
 "nbformat": 4,
 "nbformat_minor": 5
}
